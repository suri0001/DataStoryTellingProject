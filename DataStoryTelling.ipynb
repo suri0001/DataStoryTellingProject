{
 "cells": [
  {
   "cell_type": "markdown",
   "metadata": {},
   "source": [
    "# Introduction\n",
    "\n",
    "For this project, we will be looking at telling stories about data using information about previous winning lottery draws. In theory, the winning ticket in a lottery is completely random and unpredictable, so there shouldn't be anything too interesting. But, that's exactly why I chose this project; it has the potential to reveal something unexpected."
   ]
  },
  {
   "cell_type": "code",
   "execution_count": 3,
   "metadata": {},
   "outputs": [],
   "source": [
    "#import a bunch of stuff the usual stuff is here more or less without comment\n",
    "import bs4 # BeautifulSoup is helpful for collecting the data.\n",
    "import numpy as np\n",
    "import pandas as pd\n",
    "import sklearn\n",
    "from sklearn.metrics import r2_score\n",
    "import requests # Required for collecting Data\n",
    "import datetime\n",
    "import matplotlib.pyplot as plt\n",
    "import re #I added this helps pick the actual numbers out for data collection\n",
    "import warnings\n",
    "warnings.filterwarnings('ignore') #prevent warning print outs since\n",
    "#The comment below was added for reference to get everything else right.\n",
    "#https://www.lottery.ok.gov/play/draw/check-numbers?gameId=17&drawDate=2021-02-13&lineData=[[1,2,3,4,5,6]]&type=Straight\n",
    "GAME_IDS = {\"MegaMillions\" : 17 } #using this dictionary, we could add in other Lottery games, \n",
    "#                                  but for simplicity this notebook only looks at one\n",
    "URL = \"https://www.lottery.ok.gov/play/draw/check-numbers\"\n"
   ]
  },
  {
   "cell_type": "code",
   "execution_count": 4,
   "metadata": {},
   "outputs": [],
   "source": [
    "#Code to winning numbers for the tickets.\n",
    "pat = re.compile(r\"\\d{1,2}\")\n",
    "date_class = [\"col-6\", \"col-md-6\", \"col-sm-3\", \"text-center\"]\n",
    "def find_nums(soup):\n",
    "    \"\"\"Pulls the numbers out of the html doc parsed by BeautifulSoup\"\"\"\n",
    "    l = []\n",
    "    result = []\n",
    "    for d in soup.find_all('div'):\n",
    "        if not d.get('class'):\n",
    "            continue\n",
    "        if d.get('class') == ['ball']:\n",
    "            result.append((d.text))\n",
    "        if 'special' in d.get('class'):\n",
    "            result.append(d.text+'s')\n",
    "    return result\n",
    "    for d in soup.find_all('div'):\n",
    "        if d.get('class') == ['ball']:\n",
    "            l.append(d.text.strip())\n",
    "        if 'special' in d.get('class'):\n",
    "            #mark the special ball as special\n",
    "            l.append(d.text.strip()+'s')\n",
    "        return l"
   ]
  },
  {
   "cell_type": "code",
   "execution_count": 5,
   "metadata": {},
   "outputs": [],
   "source": [
    "def find_draw_days(n=100):\n",
    "    \"\"\"Calculates the past n days on which there was a draw for the target lottery game.\n",
    "    MegaMillions draws on Tuesdays and Fridays, so we will generate the dates for those days.\"\"\"\n",
    "    next_week = datetime.date.today() + datetime.timedelta(days=7)\n",
    "    monday = next_week + datetime.timedelta(days=-next_week.weekday()) #first monday after today\n",
    "    tuesday = monday + datetime.timedelta(days=-6) #last tuesday before monday\n",
    "    friday = monday + datetime.timedelta(days=-3) #last friday before monday\n",
    "    mm = []\n",
    "    for i in range(n):\n",
    "        mm.append(tuesday + datetime.timedelta(weeks=-i)) \n",
    "        mm.append(friday + datetime.timedelta(weeks=-i))\n",
    "    return mm"
   ]
  },
  {
   "cell_type": "code",
   "execution_count": 6,
   "metadata": {},
   "outputs": [],
   "source": [
    "#calculate dates and grab data \n",
    "draw_days = sorted(find_draw_days(200))"
   ]
  },
  {
   "cell_type": "code",
   "execution_count": 7,
   "metadata": {},
   "outputs": [
    {
     "name": "stdout",
     "output_type": "stream",
     "text": [
      "400\n"
     ]
    }
   ],
   "source": [
    "#correctly foormat months for scraping data from the web\n",
    "def month_format(m):\n",
    "    if m < 10:\n",
    "        return '0'+str(m)\n",
    "    return str(m)\n",
    "mm_date_strs = list(map(lambda x: str(x.year)+'-'+month_format(x.month)+'-'+month_format(x.day),draw_days))\n",
    "print(len(mm_date_strs))"
   ]
  },
  {
   "cell_type": "code",
   "execution_count": 8,
   "metadata": {},
   "outputs": [],
   "source": [
    "ses = requests.Session()"
   ]
  },
  {
   "cell_type": "code",
   "execution_count": 9,
   "metadata": {},
   "outputs": [],
   "source": [
    "#We need to define a few parameters that mean nothing, but we need them inorder to retrieve data from the website.\n",
    "params = {'lineData' : \"[[1, 2, 3, 4, 5, 6]]\", 'type' : 1}\n",
    "params['gameId'] = GAME_IDS['MegaMillions']\n",
    "draws = []\n",
    "for date in mm_date_strs:\n",
    "    params['drawDate'] = date\n",
    "    req = ses.get(URL, params = params)\n",
    "    soup = bs4.BeautifulSoup(req.text, \"html.parser\")\n",
    "    draws.append([date]+find_nums(soup))"
   ]
  },
  {
   "cell_type": "code",
   "execution_count": 10,
   "metadata": {},
   "outputs": [],
   "source": [
    "#draws"
   ]
  },
  {
   "cell_type": "code",
   "execution_count": 11,
   "metadata": {},
   "outputs": [],
   "source": [
    "#clean up draws data before putting it in a DataFrame\n",
    "ds = list(map(lambda x: x[:6]+[x[6][:-1]], draws[:-1]))\n",
    "#ds"
   ]
  },
  {
   "cell_type": "code",
   "execution_count": 12,
   "metadata": {},
   "outputs": [
    {
     "data": {
      "text/html": [
       "<div>\n",
       "<style scoped>\n",
       "    .dataframe tbody tr th:only-of-type {\n",
       "        vertical-align: middle;\n",
       "    }\n",
       "\n",
       "    .dataframe tbody tr th {\n",
       "        vertical-align: top;\n",
       "    }\n",
       "\n",
       "    .dataframe thead th {\n",
       "        text-align: right;\n",
       "    }\n",
       "</style>\n",
       "<table border=\"1\" class=\"dataframe\">\n",
       "  <thead>\n",
       "    <tr style=\"text-align: right;\">\n",
       "      <th></th>\n",
       "      <th>date</th>\n",
       "      <th>b1</th>\n",
       "      <th>b2</th>\n",
       "      <th>b3</th>\n",
       "      <th>b4</th>\n",
       "      <th>b5</th>\n",
       "      <th>s</th>\n",
       "    </tr>\n",
       "  </thead>\n",
       "  <tbody>\n",
       "    <tr>\n",
       "      <th>0</th>\n",
       "      <td>2017-09-26</td>\n",
       "      <td>1</td>\n",
       "      <td>10</td>\n",
       "      <td>57</td>\n",
       "      <td>66</td>\n",
       "      <td>75</td>\n",
       "      <td>4</td>\n",
       "    </tr>\n",
       "    <tr>\n",
       "      <th>1</th>\n",
       "      <td>2017-09-29</td>\n",
       "      <td>25</td>\n",
       "      <td>51</td>\n",
       "      <td>62</td>\n",
       "      <td>73</td>\n",
       "      <td>74</td>\n",
       "      <td>7</td>\n",
       "    </tr>\n",
       "    <tr>\n",
       "      <th>2</th>\n",
       "      <td>2017-10-03</td>\n",
       "      <td>12</td>\n",
       "      <td>18</td>\n",
       "      <td>19</td>\n",
       "      <td>25</td>\n",
       "      <td>67</td>\n",
       "      <td>7</td>\n",
       "    </tr>\n",
       "    <tr>\n",
       "      <th>3</th>\n",
       "      <td>2017-10-06</td>\n",
       "      <td>21</td>\n",
       "      <td>33</td>\n",
       "      <td>36</td>\n",
       "      <td>45</td>\n",
       "      <td>56</td>\n",
       "      <td>12</td>\n",
       "    </tr>\n",
       "    <tr>\n",
       "      <th>4</th>\n",
       "      <td>2017-10-10</td>\n",
       "      <td>7</td>\n",
       "      <td>16</td>\n",
       "      <td>24</td>\n",
       "      <td>61</td>\n",
       "      <td>62</td>\n",
       "      <td>2</td>\n",
       "    </tr>\n",
       "  </tbody>\n",
       "</table>\n",
       "</div>"
      ],
      "text/plain": [
       "         date  b1  b2  b3  b4  b5   s\n",
       "0  2017-09-26   1  10  57  66  75   4\n",
       "1  2017-09-29  25  51  62  73  74   7\n",
       "2  2017-10-03  12  18  19  25  67   7\n",
       "3  2017-10-06  21  33  36  45  56  12\n",
       "4  2017-10-10   7  16  24  61  62   2"
      ]
     },
     "execution_count": 12,
     "metadata": {},
     "output_type": "execute_result"
    }
   ],
   "source": [
    "df = pd.DataFrame(ds)\n",
    "df.columns = ['date', 'b1','b2','b3','b4','b5','s']\n",
    "df.head()"
   ]
  },
  {
   "cell_type": "code",
   "execution_count": 13,
   "metadata": {},
   "outputs": [
    {
     "name": "stdout",
     "output_type": "stream",
     "text": [
      "<class 'pandas.core.frame.DataFrame'>\n",
      "RangeIndex: 399 entries, 0 to 398\n",
      "Data columns (total 7 columns):\n",
      " #   Column  Non-Null Count  Dtype \n",
      "---  ------  --------------  ----- \n",
      " 0   date    399 non-null    object\n",
      " 1   b1      399 non-null    object\n",
      " 2   b2      399 non-null    object\n",
      " 3   b3      399 non-null    object\n",
      " 4   b4      399 non-null    object\n",
      " 5   b5      399 non-null    object\n",
      " 6   s       399 non-null    object\n",
      "dtypes: object(7)\n",
      "memory usage: 21.9+ KB\n"
     ]
    }
   ],
   "source": [
    "df.info()"
   ]
  },
  {
   "cell_type": "code",
   "execution_count": 14,
   "metadata": {},
   "outputs": [],
   "source": [
    "#the data seems clean, but there is an issue with an empty string for some reason, so we'll just remove that row.\n",
    "pd.unique(df.iloc[114])\n",
    "df = df[df['s'] != '']"
   ]
  },
  {
   "cell_type": "code",
   "execution_count": 15,
   "metadata": {},
   "outputs": [
    {
     "name": "stdout",
     "output_type": "stream",
     "text": [
      "<class 'pandas.core.frame.DataFrame'>\n",
      "Int64Index: 398 entries, 0 to 398\n",
      "Data columns (total 7 columns):\n",
      " #   Column  Non-Null Count  Dtype \n",
      "---  ------  --------------  ----- \n",
      " 0   date    398 non-null    object\n",
      " 1   b1      398 non-null    object\n",
      " 2   b2      398 non-null    object\n",
      " 3   b3      398 non-null    object\n",
      " 4   b4      398 non-null    object\n",
      " 5   b5      398 non-null    object\n",
      " 6   s       398 non-null    object\n",
      "dtypes: object(7)\n",
      "memory usage: 24.9+ KB\n"
     ]
    }
   ],
   "source": [
    "df.info()"
   ]
  },
  {
   "cell_type": "code",
   "execution_count": 16,
   "metadata": {},
   "outputs": [],
   "source": [
    "#cast to numeric data\n",
    "for c in df.columns[1:]:\n",
    "    df[c] = pd.to_numeric(df[c])\n",
    "df.head()\n",
    "df.date = pd.to_datetime(df.date)"
   ]
  },
  {
   "cell_type": "code",
   "execution_count": 17,
   "metadata": {},
   "outputs": [
    {
     "data": {
      "text/html": [
       "<div>\n",
       "<style scoped>\n",
       "    .dataframe tbody tr th:only-of-type {\n",
       "        vertical-align: middle;\n",
       "    }\n",
       "\n",
       "    .dataframe tbody tr th {\n",
       "        vertical-align: top;\n",
       "    }\n",
       "\n",
       "    .dataframe thead th {\n",
       "        text-align: right;\n",
       "    }\n",
       "</style>\n",
       "<table border=\"1\" class=\"dataframe\">\n",
       "  <thead>\n",
       "    <tr style=\"text-align: right;\">\n",
       "      <th></th>\n",
       "      <th>b1</th>\n",
       "      <th>b2</th>\n",
       "      <th>b3</th>\n",
       "      <th>b4</th>\n",
       "      <th>b5</th>\n",
       "      <th>s</th>\n",
       "    </tr>\n",
       "  </thead>\n",
       "  <tbody>\n",
       "    <tr>\n",
       "      <th>count</th>\n",
       "      <td>398.00000</td>\n",
       "      <td>398.000000</td>\n",
       "      <td>398.000000</td>\n",
       "      <td>398.000000</td>\n",
       "      <td>398.000000</td>\n",
       "      <td>398.000000</td>\n",
       "    </tr>\n",
       "    <tr>\n",
       "      <th>mean</th>\n",
       "      <td>11.29397</td>\n",
       "      <td>23.585427</td>\n",
       "      <td>34.949749</td>\n",
       "      <td>46.364322</td>\n",
       "      <td>58.462312</td>\n",
       "      <td>13.271357</td>\n",
       "    </tr>\n",
       "    <tr>\n",
       "      <th>std</th>\n",
       "      <td>8.82557</td>\n",
       "      <td>12.070385</td>\n",
       "      <td>13.054140</td>\n",
       "      <td>12.947888</td>\n",
       "      <td>10.207536</td>\n",
       "      <td>7.089335</td>\n",
       "    </tr>\n",
       "    <tr>\n",
       "      <th>min</th>\n",
       "      <td>1.00000</td>\n",
       "      <td>2.000000</td>\n",
       "      <td>4.000000</td>\n",
       "      <td>8.000000</td>\n",
       "      <td>18.000000</td>\n",
       "      <td>1.000000</td>\n",
       "    </tr>\n",
       "    <tr>\n",
       "      <th>25%</th>\n",
       "      <td>4.00000</td>\n",
       "      <td>14.000000</td>\n",
       "      <td>26.000000</td>\n",
       "      <td>38.000000</td>\n",
       "      <td>53.000000</td>\n",
       "      <td>7.000000</td>\n",
       "    </tr>\n",
       "    <tr>\n",
       "      <th>50%</th>\n",
       "      <td>9.00000</td>\n",
       "      <td>22.000000</td>\n",
       "      <td>34.000000</td>\n",
       "      <td>48.000000</td>\n",
       "      <td>61.000000</td>\n",
       "      <td>13.000000</td>\n",
       "    </tr>\n",
       "    <tr>\n",
       "      <th>75%</th>\n",
       "      <td>16.00000</td>\n",
       "      <td>32.000000</td>\n",
       "      <td>44.000000</td>\n",
       "      <td>56.000000</td>\n",
       "      <td>66.750000</td>\n",
       "      <td>19.000000</td>\n",
       "    </tr>\n",
       "    <tr>\n",
       "      <th>max</th>\n",
       "      <td>46.00000</td>\n",
       "      <td>59.000000</td>\n",
       "      <td>66.000000</td>\n",
       "      <td>73.000000</td>\n",
       "      <td>75.000000</td>\n",
       "      <td>25.000000</td>\n",
       "    </tr>\n",
       "  </tbody>\n",
       "</table>\n",
       "</div>"
      ],
      "text/plain": [
       "              b1          b2          b3          b4          b5           s\n",
       "count  398.00000  398.000000  398.000000  398.000000  398.000000  398.000000\n",
       "mean    11.29397   23.585427   34.949749   46.364322   58.462312   13.271357\n",
       "std      8.82557   12.070385   13.054140   12.947888   10.207536    7.089335\n",
       "min      1.00000    2.000000    4.000000    8.000000   18.000000    1.000000\n",
       "25%      4.00000   14.000000   26.000000   38.000000   53.000000    7.000000\n",
       "50%      9.00000   22.000000   34.000000   48.000000   61.000000   13.000000\n",
       "75%     16.00000   32.000000   44.000000   56.000000   66.750000   19.000000\n",
       "max     46.00000   59.000000   66.000000   73.000000   75.000000   25.000000"
      ]
     },
     "execution_count": 17,
     "metadata": {},
     "output_type": "execute_result"
    }
   ],
   "source": [
    "#get basic stats\n",
    "df.describe()"
   ]
  },
  {
   "cell_type": "code",
   "execution_count": 18,
   "metadata": {},
   "outputs": [
    {
     "name": "stdout",
     "output_type": "stream",
     "text": [
      "[[ 1 42]\n",
      " [ 2 38]\n",
      " [ 3 43]\n",
      " [ 4 55]\n",
      " [ 5 34]\n",
      " [ 6 39]\n",
      " [ 7 44]\n",
      " [ 8 45]\n",
      " [ 9 45]\n",
      " [10 63]\n",
      " [11 56]\n",
      " [12 42]\n",
      " [13 41]\n",
      " [14 55]\n",
      " [15 43]\n",
      " [16 39]\n",
      " [17 53]\n",
      " [18 41]\n",
      " [19 43]\n",
      " [20 49]\n",
      " [21 32]\n",
      " [22 51]\n",
      " [23 38]\n",
      " [24 48]\n",
      " [25 50]\n",
      " [26 27]\n",
      " [27 31]\n",
      " [28 33]\n",
      " [29 28]\n",
      " [30 27]\n",
      " [31 40]\n",
      " [32 26]\n",
      " [33 30]\n",
      " [34 35]\n",
      " [35 19]\n",
      " [36 19]\n",
      " [37 31]\n",
      " [38 30]\n",
      " [39 30]\n",
      " [40 22]\n",
      " [41 27]\n",
      " [42 33]\n",
      " [43 34]\n",
      " [44 33]\n",
      " [45 21]\n",
      " [46 33]\n",
      " [47 25]\n",
      " [48 36]\n",
      " [49 24]\n",
      " [50 22]\n",
      " [51 19]\n",
      " [52 25]\n",
      " [53 30]\n",
      " [54 26]\n",
      " [55 21]\n",
      " [56 32]\n",
      " [57 30]\n",
      " [58 31]\n",
      " [59 28]\n",
      " [60 28]\n",
      " [61 25]\n",
      " [62 36]\n",
      " [63 24]\n",
      " [64 31]\n",
      " [65 20]\n",
      " [66 27]\n",
      " [67 24]\n",
      " [68 28]\n",
      " [69 21]\n",
      " [70 33]\n",
      " [73  2]\n",
      " [74  1]\n",
      " [75  1]]\n"
     ]
    }
   ],
   "source": [
    "#print list of uniques with counts\n",
    "print(np.array(np.unique(df[df.columns[1:]], return_counts=True)).transpose())"
   ]
  },
  {
   "cell_type": "code",
   "execution_count": 19,
   "metadata": {},
   "outputs": [
    {
     "data": {
      "text/plain": [
       "<BarContainer object of 73 artists>"
      ]
     },
     "execution_count": 19,
     "metadata": {},
     "output_type": "execute_result"
    },
    {
     "data": {
      "image/png": "[encoded data removed]",
      "text/plain": [
       "<Figure size 432x288 with 1 Axes>"
      ]
     },
     "metadata": {
      "needs_background": "light"
     },
     "output_type": "display_data"
    }
   ],
   "source": [
    "counts = np.array(np.unique(df[df.columns[1:]], return_counts=True))\n",
    "plt.bar(counts[0], counts[1])"
   ]
  },
  {
   "cell_type": "code",
   "execution_count": 20,
   "metadata": {},
   "outputs": [
    {
     "data": {
      "text/html": [
       "<div>\n",
       "<style scoped>\n",
       "    .dataframe tbody tr th:only-of-type {\n",
       "        vertical-align: middle;\n",
       "    }\n",
       "\n",
       "    .dataframe tbody tr th {\n",
       "        vertical-align: top;\n",
       "    }\n",
       "\n",
       "    .dataframe thead th {\n",
       "        text-align: right;\n",
       "    }\n",
       "</style>\n",
       "<table border=\"1\" class=\"dataframe\">\n",
       "  <thead>\n",
       "    <tr style=\"text-align: right;\">\n",
       "      <th></th>\n",
       "      <th>number</th>\n",
       "      <th>count</th>\n",
       "    </tr>\n",
       "  </thead>\n",
       "  <tbody>\n",
       "    <tr>\n",
       "      <th>16</th>\n",
       "      <td>17</td>\n",
       "      <td>53</td>\n",
       "    </tr>\n",
       "    <tr>\n",
       "      <th>3</th>\n",
       "      <td>4</td>\n",
       "      <td>55</td>\n",
       "    </tr>\n",
       "    <tr>\n",
       "      <th>13</th>\n",
       "      <td>14</td>\n",
       "      <td>55</td>\n",
       "    </tr>\n",
       "    <tr>\n",
       "      <th>10</th>\n",
       "      <td>11</td>\n",
       "      <td>56</td>\n",
       "    </tr>\n",
       "    <tr>\n",
       "      <th>9</th>\n",
       "      <td>10</td>\n",
       "      <td>63</td>\n",
       "    </tr>\n",
       "  </tbody>\n",
       "</table>\n",
       "</div>"
      ],
      "text/plain": [
       "    number  count\n",
       "16      17     53\n",
       "3        4     55\n",
       "13      14     55\n",
       "10      11     56\n",
       "9       10     63"
      ]
     },
     "execution_count": 20,
     "metadata": {},
     "output_type": "execute_result"
    }
   ],
   "source": [
    "cdf = pd.DataFrame(counts.transpose(), columns=['number', 'count'])\n",
    "cdf.sort_values('count').tail()"
   ]
  },
  {
   "cell_type": "code",
   "execution_count": 21,
   "metadata": {},
   "outputs": [
    {
     "data": {
      "text/plain": [
       "32.71232876712329"
      ]
     },
     "execution_count": 21,
     "metadata": {},
     "output_type": "execute_result"
    }
   ],
   "source": [
    "cdf['count'].mean()"
   ]
  },
  {
   "cell_type": "code",
   "execution_count": 26,
   "metadata": {},
   "outputs": [
    {
     "name": "stdout",
     "output_type": "stream",
     "text": [
      "<class 'pandas.core.frame.DataFrame'>\n",
      "Int64Index: 34 entries, 69 to 9\n",
      "Data columns (total 2 columns):\n",
      " #   Column  Non-Null Count  Dtype\n",
      "---  ------  --------------  -----\n",
      " 0   number  34 non-null     int64\n",
      " 1   count   34 non-null     int64\n",
      "dtypes: int64(2)\n",
      "memory usage: 816.0 bytes\n"
     ]
    }
   ],
   "source": [
    "cdf[cdf['count']>cdf['count'].mean()].sort_values('count').info()"
   ]
  },
  {
   "cell_type": "markdown",
   "metadata": {},
   "source": [
    "About half of the possible numbers are more common than average. 10 occurs almost twice the average amount of times."
   ]
  },
  {
   "cell_type": "code",
   "execution_count": 23,
   "metadata": {},
   "outputs": [
    {
     "data": {
      "text/plain": [
       "[0.06052271725264305,\n",
       " 0.01476283300079648,\n",
       " 0.009917608932371647,\n",
       " 0.01786423977162243,\n",
       " 0.029184565445418868,\n",
       " 0.02141693832040247]"
      ]
     },
     "execution_count": 23,
     "metadata": {},
     "output_type": "execute_result"
    }
   ],
   "source": [
    "autos = []\n",
    "for col in df.columns[1:]:\n",
    "    autos.append(df[col].autocorr())\n",
    "autos"
   ]
  },
  {
   "cell_type": "code",
   "execution_count": 24,
   "metadata": {},
   "outputs": [
    {
     "data": {
      "text/html": [
       "<div>\n",
       "<style scoped>\n",
       "    .dataframe tbody tr th:only-of-type {\n",
       "        vertical-align: middle;\n",
       "    }\n",
       "\n",
       "    .dataframe tbody tr th {\n",
       "        vertical-align: top;\n",
       "    }\n",
       "\n",
       "    .dataframe thead th {\n",
       "        text-align: right;\n",
       "    }\n",
       "</style>\n",
       "<table border=\"1\" class=\"dataframe\">\n",
       "  <thead>\n",
       "    <tr style=\"text-align: right;\">\n",
       "      <th></th>\n",
       "      <th>b1</th>\n",
       "      <th>b2</th>\n",
       "      <th>b3</th>\n",
       "      <th>b4</th>\n",
       "      <th>b5</th>\n",
       "      <th>s</th>\n",
       "    </tr>\n",
       "  </thead>\n",
       "  <tbody>\n",
       "    <tr>\n",
       "      <th>b1</th>\n",
       "      <td>1.000000</td>\n",
       "      <td>0.585825</td>\n",
       "      <td>0.412648</td>\n",
       "      <td>0.300276</td>\n",
       "      <td>0.202348</td>\n",
       "      <td>0.122236</td>\n",
       "    </tr>\n",
       "    <tr>\n",
       "      <th>b2</th>\n",
       "      <td>0.585825</td>\n",
       "      <td>1.000000</td>\n",
       "      <td>0.737174</td>\n",
       "      <td>0.532643</td>\n",
       "      <td>0.375645</td>\n",
       "      <td>0.128483</td>\n",
       "    </tr>\n",
       "    <tr>\n",
       "      <th>b3</th>\n",
       "      <td>0.412648</td>\n",
       "      <td>0.737174</td>\n",
       "      <td>1.000000</td>\n",
       "      <td>0.734479</td>\n",
       "      <td>0.518204</td>\n",
       "      <td>0.010681</td>\n",
       "    </tr>\n",
       "    <tr>\n",
       "      <th>b4</th>\n",
       "      <td>0.300276</td>\n",
       "      <td>0.532643</td>\n",
       "      <td>0.734479</td>\n",
       "      <td>1.000000</td>\n",
       "      <td>0.680122</td>\n",
       "      <td>-0.043422</td>\n",
       "    </tr>\n",
       "    <tr>\n",
       "      <th>b5</th>\n",
       "      <td>0.202348</td>\n",
       "      <td>0.375645</td>\n",
       "      <td>0.518204</td>\n",
       "      <td>0.680122</td>\n",
       "      <td>1.000000</td>\n",
       "      <td>-0.079361</td>\n",
       "    </tr>\n",
       "    <tr>\n",
       "      <th>s</th>\n",
       "      <td>0.122236</td>\n",
       "      <td>0.128483</td>\n",
       "      <td>0.010681</td>\n",
       "      <td>-0.043422</td>\n",
       "      <td>-0.079361</td>\n",
       "      <td>1.000000</td>\n",
       "    </tr>\n",
       "  </tbody>\n",
       "</table>\n",
       "</div>"
      ],
      "text/plain": [
       "          b1        b2        b3        b4        b5         s\n",
       "b1  1.000000  0.585825  0.412648  0.300276  0.202348  0.122236\n",
       "b2  0.585825  1.000000  0.737174  0.532643  0.375645  0.128483\n",
       "b3  0.412648  0.737174  1.000000  0.734479  0.518204  0.010681\n",
       "b4  0.300276  0.532643  0.734479  1.000000  0.680122 -0.043422\n",
       "b5  0.202348  0.375645  0.518204  0.680122  1.000000 -0.079361\n",
       "s   0.122236  0.128483  0.010681 -0.043422 -0.079361  1.000000"
      ]
     },
     "execution_count": 24,
     "metadata": {},
     "output_type": "execute_result"
    }
   ],
   "source": [
    "df.corr()"
   ]
  },
  {
   "cell_type": "markdown",
   "metadata": {},
   "source": [
    "There is actual a pretty decent amount of correlation between the 5 normal balls. It is unfortunate that this only holds for balls from the same draws though. For a Time Series model to be useful it needs to predict future values based on the date,time and past values of the data. But, we are going to setup a linear regression model just to see what happens."
   ]
  },
  {
   "cell_type": "code",
   "execution_count": 27,
   "metadata": {},
   "outputs": [],
   "source": [
    "df = df[df.columns[:7]]#This is a correction from when I messed up later"
   ]
  },
  {
   "cell_type": "code",
   "execution_count": 28,
   "metadata": {},
   "outputs": [
    {
     "data": {
      "text/html": [
       "<div>\n",
       "<style scoped>\n",
       "    .dataframe tbody tr th:only-of-type {\n",
       "        vertical-align: middle;\n",
       "    }\n",
       "\n",
       "    .dataframe tbody tr th {\n",
       "        vertical-align: top;\n",
       "    }\n",
       "\n",
       "    .dataframe thead th {\n",
       "        text-align: right;\n",
       "    }\n",
       "</style>\n",
       "<table border=\"1\" class=\"dataframe\">\n",
       "  <thead>\n",
       "    <tr style=\"text-align: right;\">\n",
       "      <th></th>\n",
       "      <th>date</th>\n",
       "      <th>b1</th>\n",
       "      <th>b2</th>\n",
       "      <th>b3</th>\n",
       "      <th>b4</th>\n",
       "      <th>b5</th>\n",
       "      <th>s</th>\n",
       "      <th>b1.past</th>\n",
       "      <th>b2.past</th>\n",
       "      <th>b3.past</th>\n",
       "      <th>b4.past</th>\n",
       "      <th>b5.past</th>\n",
       "      <th>s.past</th>\n",
       "    </tr>\n",
       "  </thead>\n",
       "  <tbody>\n",
       "    <tr>\n",
       "      <th>0</th>\n",
       "      <td>2017-09-26</td>\n",
       "      <td>1</td>\n",
       "      <td>10</td>\n",
       "      <td>57</td>\n",
       "      <td>66</td>\n",
       "      <td>75</td>\n",
       "      <td>4</td>\n",
       "      <td>NaN</td>\n",
       "      <td>NaN</td>\n",
       "      <td>NaN</td>\n",
       "      <td>NaN</td>\n",
       "      <td>NaN</td>\n",
       "      <td>NaN</td>\n",
       "    </tr>\n",
       "    <tr>\n",
       "      <th>1</th>\n",
       "      <td>2017-09-29</td>\n",
       "      <td>25</td>\n",
       "      <td>51</td>\n",
       "      <td>62</td>\n",
       "      <td>73</td>\n",
       "      <td>74</td>\n",
       "      <td>7</td>\n",
       "      <td>1.0</td>\n",
       "      <td>10.0</td>\n",
       "      <td>57.0</td>\n",
       "      <td>66.0</td>\n",
       "      <td>75.0</td>\n",
       "      <td>4.0</td>\n",
       "    </tr>\n",
       "    <tr>\n",
       "      <th>2</th>\n",
       "      <td>2017-10-03</td>\n",
       "      <td>12</td>\n",
       "      <td>18</td>\n",
       "      <td>19</td>\n",
       "      <td>25</td>\n",
       "      <td>67</td>\n",
       "      <td>7</td>\n",
       "      <td>25.0</td>\n",
       "      <td>51.0</td>\n",
       "      <td>62.0</td>\n",
       "      <td>73.0</td>\n",
       "      <td>74.0</td>\n",
       "      <td>7.0</td>\n",
       "    </tr>\n",
       "    <tr>\n",
       "      <th>3</th>\n",
       "      <td>2017-10-06</td>\n",
       "      <td>21</td>\n",
       "      <td>33</td>\n",
       "      <td>36</td>\n",
       "      <td>45</td>\n",
       "      <td>56</td>\n",
       "      <td>12</td>\n",
       "      <td>12.0</td>\n",
       "      <td>18.0</td>\n",
       "      <td>19.0</td>\n",
       "      <td>25.0</td>\n",
       "      <td>67.0</td>\n",
       "      <td>7.0</td>\n",
       "    </tr>\n",
       "    <tr>\n",
       "      <th>4</th>\n",
       "      <td>2017-10-10</td>\n",
       "      <td>7</td>\n",
       "      <td>16</td>\n",
       "      <td>24</td>\n",
       "      <td>61</td>\n",
       "      <td>62</td>\n",
       "      <td>2</td>\n",
       "      <td>21.0</td>\n",
       "      <td>33.0</td>\n",
       "      <td>36.0</td>\n",
       "      <td>45.0</td>\n",
       "      <td>56.0</td>\n",
       "      <td>12.0</td>\n",
       "    </tr>\n",
       "  </tbody>\n",
       "</table>\n",
       "</div>"
      ],
      "text/plain": [
       "        date  b1  b2  b3  b4  b5   s  b1.past  b2.past  b3.past  b4.past  \\\n",
       "0 2017-09-26   1  10  57  66  75   4      NaN      NaN      NaN      NaN   \n",
       "1 2017-09-29  25  51  62  73  74   7      1.0     10.0     57.0     66.0   \n",
       "2 2017-10-03  12  18  19  25  67   7     25.0     51.0     62.0     73.0   \n",
       "3 2017-10-06  21  33  36  45  56  12     12.0     18.0     19.0     25.0   \n",
       "4 2017-10-10   7  16  24  61  62   2     21.0     33.0     36.0     45.0   \n",
       "\n",
       "   b5.past  s.past  \n",
       "0      NaN     NaN  \n",
       "1     75.0     4.0  \n",
       "2     74.0     7.0  \n",
       "3     67.0     7.0  \n",
       "4     56.0    12.0  "
      ]
     },
     "execution_count": 28,
     "metadata": {},
     "output_type": "execute_result"
    }
   ],
   "source": [
    "from sklearn.linear_model import LinearRegression\n",
    "\n",
    "df[df.add_suffix('.past').columns[1:]] = df[df.columns[1:7]].shift()\n",
    "df.head()"
   ]
  },
  {
   "cell_type": "code",
   "execution_count": 29,
   "metadata": {},
   "outputs": [
    {
     "data": {
      "text/html": [
       "<div>\n",
       "<style scoped>\n",
       "    .dataframe tbody tr th:only-of-type {\n",
       "        vertical-align: middle;\n",
       "    }\n",
       "\n",
       "    .dataframe tbody tr th {\n",
       "        vertical-align: top;\n",
       "    }\n",
       "\n",
       "    .dataframe thead th {\n",
       "        text-align: right;\n",
       "    }\n",
       "</style>\n",
       "<table border=\"1\" class=\"dataframe\">\n",
       "  <thead>\n",
       "    <tr style=\"text-align: right;\">\n",
       "      <th></th>\n",
       "      <th>b1</th>\n",
       "      <th>b2</th>\n",
       "      <th>b3</th>\n",
       "      <th>b4</th>\n",
       "      <th>b5</th>\n",
       "      <th>s</th>\n",
       "      <th>b1.past</th>\n",
       "      <th>b2.past</th>\n",
       "      <th>b3.past</th>\n",
       "      <th>b4.past</th>\n",
       "      <th>b5.past</th>\n",
       "      <th>s.past</th>\n",
       "    </tr>\n",
       "  </thead>\n",
       "  <tbody>\n",
       "    <tr>\n",
       "      <th>b1</th>\n",
       "      <td>1.000000</td>\n",
       "      <td>0.584449</td>\n",
       "      <td>0.419858</td>\n",
       "      <td>0.306158</td>\n",
       "      <td>0.208168</td>\n",
       "      <td>0.118845</td>\n",
       "      <td>0.060523</td>\n",
       "      <td>-0.006338</td>\n",
       "      <td>-0.004210</td>\n",
       "      <td>0.058209</td>\n",
       "      <td>0.038228</td>\n",
       "      <td>0.033421</td>\n",
       "    </tr>\n",
       "    <tr>\n",
       "      <th>b2</th>\n",
       "      <td>0.584449</td>\n",
       "      <td>1.000000</td>\n",
       "      <td>0.745857</td>\n",
       "      <td>0.539383</td>\n",
       "      <td>0.382128</td>\n",
       "      <td>0.125236</td>\n",
       "      <td>-0.013811</td>\n",
       "      <td>0.014763</td>\n",
       "      <td>0.034756</td>\n",
       "      <td>0.061905</td>\n",
       "      <td>0.045303</td>\n",
       "      <td>0.012068</td>\n",
       "    </tr>\n",
       "    <tr>\n",
       "      <th>b3</th>\n",
       "      <td>0.419858</td>\n",
       "      <td>0.745857</td>\n",
       "      <td>1.000000</td>\n",
       "      <td>0.732779</td>\n",
       "      <td>0.514854</td>\n",
       "      <td>0.016354</td>\n",
       "      <td>-0.071722</td>\n",
       "      <td>-0.039625</td>\n",
       "      <td>0.009918</td>\n",
       "      <td>0.049259</td>\n",
       "      <td>0.090035</td>\n",
       "      <td>0.019147</td>\n",
       "    </tr>\n",
       "    <tr>\n",
       "      <th>b4</th>\n",
       "      <td>0.306158</td>\n",
       "      <td>0.539383</td>\n",
       "      <td>0.732779</td>\n",
       "      <td>1.000000</td>\n",
       "      <td>0.678135</td>\n",
       "      <td>-0.038609</td>\n",
       "      <td>-0.073069</td>\n",
       "      <td>-0.071424</td>\n",
       "      <td>-0.026508</td>\n",
       "      <td>0.017864</td>\n",
       "      <td>0.024041</td>\n",
       "      <td>0.063593</td>\n",
       "    </tr>\n",
       "    <tr>\n",
       "      <th>b5</th>\n",
       "      <td>0.208168</td>\n",
       "      <td>0.382128</td>\n",
       "      <td>0.514854</td>\n",
       "      <td>0.678135</td>\n",
       "      <td>1.000000</td>\n",
       "      <td>-0.074417</td>\n",
       "      <td>-0.009781</td>\n",
       "      <td>-0.009328</td>\n",
       "      <td>0.027247</td>\n",
       "      <td>0.028356</td>\n",
       "      <td>0.029185</td>\n",
       "      <td>0.092934</td>\n",
       "    </tr>\n",
       "    <tr>\n",
       "      <th>s</th>\n",
       "      <td>0.118845</td>\n",
       "      <td>0.125236</td>\n",
       "      <td>0.016354</td>\n",
       "      <td>-0.038609</td>\n",
       "      <td>-0.074417</td>\n",
       "      <td>1.000000</td>\n",
       "      <td>-0.032107</td>\n",
       "      <td>-0.062537</td>\n",
       "      <td>-0.095339</td>\n",
       "      <td>-0.118693</td>\n",
       "      <td>-0.042752</td>\n",
       "      <td>0.021417</td>\n",
       "    </tr>\n",
       "    <tr>\n",
       "      <th>b1.past</th>\n",
       "      <td>0.060523</td>\n",
       "      <td>-0.013811</td>\n",
       "      <td>-0.071722</td>\n",
       "      <td>-0.073069</td>\n",
       "      <td>-0.009781</td>\n",
       "      <td>-0.032107</td>\n",
       "      <td>1.000000</td>\n",
       "      <td>0.585945</td>\n",
       "      <td>0.412594</td>\n",
       "      <td>0.300517</td>\n",
       "      <td>0.202306</td>\n",
       "      <td>0.122101</td>\n",
       "    </tr>\n",
       "    <tr>\n",
       "      <th>b2.past</th>\n",
       "      <td>-0.006338</td>\n",
       "      <td>0.014763</td>\n",
       "      <td>-0.039625</td>\n",
       "      <td>-0.071424</td>\n",
       "      <td>-0.009328</td>\n",
       "      <td>-0.062537</td>\n",
       "      <td>0.585945</td>\n",
       "      <td>1.000000</td>\n",
       "      <td>0.737537</td>\n",
       "      <td>0.532577</td>\n",
       "      <td>0.375746</td>\n",
       "      <td>0.128757</td>\n",
       "    </tr>\n",
       "    <tr>\n",
       "      <th>b3.past</th>\n",
       "      <td>-0.004210</td>\n",
       "      <td>0.034756</td>\n",
       "      <td>0.009918</td>\n",
       "      <td>-0.026508</td>\n",
       "      <td>0.027247</td>\n",
       "      <td>-0.095339</td>\n",
       "      <td>0.412594</td>\n",
       "      <td>0.737537</td>\n",
       "      <td>1.000000</td>\n",
       "      <td>0.735205</td>\n",
       "      <td>0.518174</td>\n",
       "      <td>0.010244</td>\n",
       "    </tr>\n",
       "    <tr>\n",
       "      <th>b4.past</th>\n",
       "      <td>0.058209</td>\n",
       "      <td>0.061905</td>\n",
       "      <td>0.049259</td>\n",
       "      <td>0.017864</td>\n",
       "      <td>0.028356</td>\n",
       "      <td>-0.118693</td>\n",
       "      <td>0.300517</td>\n",
       "      <td>0.532577</td>\n",
       "      <td>0.735205</td>\n",
       "      <td>1.000000</td>\n",
       "      <td>0.680460</td>\n",
       "      <td>-0.042936</td>\n",
       "    </tr>\n",
       "    <tr>\n",
       "      <th>b5.past</th>\n",
       "      <td>0.038228</td>\n",
       "      <td>0.045303</td>\n",
       "      <td>0.090035</td>\n",
       "      <td>0.024041</td>\n",
       "      <td>0.029185</td>\n",
       "      <td>-0.042752</td>\n",
       "      <td>0.202306</td>\n",
       "      <td>0.375746</td>\n",
       "      <td>0.518174</td>\n",
       "      <td>0.680460</td>\n",
       "      <td>1.000000</td>\n",
       "      <td>-0.079551</td>\n",
       "    </tr>\n",
       "    <tr>\n",
       "      <th>s.past</th>\n",
       "      <td>0.033421</td>\n",
       "      <td>0.012068</td>\n",
       "      <td>0.019147</td>\n",
       "      <td>0.063593</td>\n",
       "      <td>0.092934</td>\n",
       "      <td>0.021417</td>\n",
       "      <td>0.122101</td>\n",
       "      <td>0.128757</td>\n",
       "      <td>0.010244</td>\n",
       "      <td>-0.042936</td>\n",
       "      <td>-0.079551</td>\n",
       "      <td>1.000000</td>\n",
       "    </tr>\n",
       "  </tbody>\n",
       "</table>\n",
       "</div>"
      ],
      "text/plain": [
       "               b1        b2        b3        b4        b5         s   b1.past  \\\n",
       "b1       1.000000  0.584449  0.419858  0.306158  0.208168  0.118845  0.060523   \n",
       "b2       0.584449  1.000000  0.745857  0.539383  0.382128  0.125236 -0.013811   \n",
       "b3       0.419858  0.745857  1.000000  0.732779  0.514854  0.016354 -0.071722   \n",
       "b4       0.306158  0.539383  0.732779  1.000000  0.678135 -0.038609 -0.073069   \n",
       "b5       0.208168  0.382128  0.514854  0.678135  1.000000 -0.074417 -0.009781   \n",
       "s        0.118845  0.125236  0.016354 -0.038609 -0.074417  1.000000 -0.032107   \n",
       "b1.past  0.060523 -0.013811 -0.071722 -0.073069 -0.009781 -0.032107  1.000000   \n",
       "b2.past -0.006338  0.014763 -0.039625 -0.071424 -0.009328 -0.062537  0.585945   \n",
       "b3.past -0.004210  0.034756  0.009918 -0.026508  0.027247 -0.095339  0.412594   \n",
       "b4.past  0.058209  0.061905  0.049259  0.017864  0.028356 -0.118693  0.300517   \n",
       "b5.past  0.038228  0.045303  0.090035  0.024041  0.029185 -0.042752  0.202306   \n",
       "s.past   0.033421  0.012068  0.019147  0.063593  0.092934  0.021417  0.122101   \n",
       "\n",
       "          b2.past   b3.past   b4.past   b5.past    s.past  \n",
       "b1      -0.006338 -0.004210  0.058209  0.038228  0.033421  \n",
       "b2       0.014763  0.034756  0.061905  0.045303  0.012068  \n",
       "b3      -0.039625  0.009918  0.049259  0.090035  0.019147  \n",
       "b4      -0.071424 -0.026508  0.017864  0.024041  0.063593  \n",
       "b5      -0.009328  0.027247  0.028356  0.029185  0.092934  \n",
       "s       -0.062537 -0.095339 -0.118693 -0.042752  0.021417  \n",
       "b1.past  0.585945  0.412594  0.300517  0.202306  0.122101  \n",
       "b2.past  1.000000  0.737537  0.532577  0.375746  0.128757  \n",
       "b3.past  0.737537  1.000000  0.735205  0.518174  0.010244  \n",
       "b4.past  0.532577  0.735205  1.000000  0.680460 -0.042936  \n",
       "b5.past  0.375746  0.518174  0.680460  1.000000 -0.079551  \n",
       "s.past   0.128757  0.010244 -0.042936 -0.079551  1.000000  "
      ]
     },
     "execution_count": 29,
     "metadata": {},
     "output_type": "execute_result"
    }
   ],
   "source": [
    "df.dropna(inplace=True)\n",
    "df.corr()"
   ]
  },
  {
   "cell_type": "code",
   "execution_count": 30,
   "metadata": {},
   "outputs": [],
   "source": [
    "\n",
    "spoint = int(0.75*df.shape[0])\n",
    "ys_train, ys_test, X_train, X_test = df[df.columns[1:7]].iloc[:spoint], df[df.columns[1:7]].iloc[spoint:], df[df.columns[7:]].iloc[:spoint], df[df.columns[7:]].iloc[spoint:]"
   ]
  },
  {
   "cell_type": "code",
   "execution_count": 31,
   "metadata": {},
   "outputs": [
    {
     "data": {
      "text/html": [
       "<div>\n",
       "<style scoped>\n",
       "    .dataframe tbody tr th:only-of-type {\n",
       "        vertical-align: middle;\n",
       "    }\n",
       "\n",
       "    .dataframe tbody tr th {\n",
       "        vertical-align: top;\n",
       "    }\n",
       "\n",
       "    .dataframe thead th {\n",
       "        text-align: right;\n",
       "    }\n",
       "</style>\n",
       "<table border=\"1\" class=\"dataframe\">\n",
       "  <thead>\n",
       "    <tr style=\"text-align: right;\">\n",
       "      <th></th>\n",
       "      <th>b1.past</th>\n",
       "      <th>b2.past</th>\n",
       "      <th>b3.past</th>\n",
       "      <th>b4.past</th>\n",
       "      <th>b5.past</th>\n",
       "      <th>s.past</th>\n",
       "    </tr>\n",
       "  </thead>\n",
       "  <tbody>\n",
       "    <tr>\n",
       "      <th>1</th>\n",
       "      <td>1.0</td>\n",
       "      <td>10.0</td>\n",
       "      <td>57.0</td>\n",
       "      <td>66.0</td>\n",
       "      <td>75.0</td>\n",
       "      <td>4.0</td>\n",
       "    </tr>\n",
       "    <tr>\n",
       "      <th>2</th>\n",
       "      <td>25.0</td>\n",
       "      <td>51.0</td>\n",
       "      <td>62.0</td>\n",
       "      <td>73.0</td>\n",
       "      <td>74.0</td>\n",
       "      <td>7.0</td>\n",
       "    </tr>\n",
       "    <tr>\n",
       "      <th>3</th>\n",
       "      <td>12.0</td>\n",
       "      <td>18.0</td>\n",
       "      <td>19.0</td>\n",
       "      <td>25.0</td>\n",
       "      <td>67.0</td>\n",
       "      <td>7.0</td>\n",
       "    </tr>\n",
       "    <tr>\n",
       "      <th>4</th>\n",
       "      <td>21.0</td>\n",
       "      <td>33.0</td>\n",
       "      <td>36.0</td>\n",
       "      <td>45.0</td>\n",
       "      <td>56.0</td>\n",
       "      <td>12.0</td>\n",
       "    </tr>\n",
       "    <tr>\n",
       "      <th>5</th>\n",
       "      <td>7.0</td>\n",
       "      <td>16.0</td>\n",
       "      <td>24.0</td>\n",
       "      <td>61.0</td>\n",
       "      <td>62.0</td>\n",
       "      <td>2.0</td>\n",
       "    </tr>\n",
       "  </tbody>\n",
       "</table>\n",
       "</div>"
      ],
      "text/plain": [
       "   b1.past  b2.past  b3.past  b4.past  b5.past  s.past\n",
       "1      1.0     10.0     57.0     66.0     75.0     4.0\n",
       "2     25.0     51.0     62.0     73.0     74.0     7.0\n",
       "3     12.0     18.0     19.0     25.0     67.0     7.0\n",
       "4     21.0     33.0     36.0     45.0     56.0    12.0\n",
       "5      7.0     16.0     24.0     61.0     62.0     2.0"
      ]
     },
     "execution_count": 31,
     "metadata": {},
     "output_type": "execute_result"
    }
   ],
   "source": [
    "X_train.head()"
   ]
  },
  {
   "cell_type": "code",
   "execution_count": 32,
   "metadata": {},
   "outputs": [
    {
     "name": "stdout",
     "output_type": "stream",
     "text": [
      "model0:  0.026812922755761748 ,  -0.045734706235242006\n",
      "model1:  0.01006282300640271 ,  -0.03924529018457701\n",
      "model2:  0.02655737126350355 ,  -0.023568105423040775\n",
      "model3:  0.030425422977073846 ,  -0.06107885225917831\n",
      "model4:  0.018558782915195526 ,  -0.03237467487555601\n",
      "model5:  0.01819960235746254 ,  -0.01159178020993834\n"
     ]
    }
   ],
   "source": [
    "models = []\n",
    "for col in ys_train.columns:\n",
    "    models.append(LinearRegression())\n",
    "for i in range(len(models)):\n",
    "    models[i].fit(X_train,ys_train.iloc[:,i])\n",
    "    print('model' + str(i)+': ', r2_score(ys_train.iloc[:,i], models[i].predict(X_train)),\", \", r2_score(ys_test.iloc[:,i], models[i].predict(X_test)))"
   ]
  },
  {
   "cell_type": "code",
   "execution_count": 33,
   "metadata": {},
   "outputs": [
    {
     "name": "stdout",
     "output_type": "stream",
     "text": [
      "model0:  0.005448603885706449\n",
      "model1:  -0.030730458738685185\n",
      "model2:  -0.0003845070024282027\n",
      "model3:  -0.028198414179439135\n",
      "model4:  -0.010441487052760268\n",
      "model5:  -0.027465649609488052\n"
     ]
    }
   ],
   "source": [
    "for i in range(len(models)):\n",
    "    models[i].fit(np.array(X_train.iloc[:,i]).reshape(-1,1),ys_train.iloc[:,i])\n",
    "    print('model' + str(i)+': ', r2_score(ys_test.iloc[:,i], models[i].predict(np.array(X_test.iloc[:,i]).reshape(-1,1))))"
   ]
  },
  {
   "cell_type": "markdown",
   "metadata": {},
   "source": [
    "The fact that model0, which corresponds to ball b1, has a positive r2_score on the test data is interesting, but given how low it is, it's probably just a fluke. Even if it weren't, it's not a very good model."
   ]
  },
  {
   "cell_type": "code",
   "execution_count": 34,
   "metadata": {},
   "outputs": [
    {
     "data": {
      "image/png": "[encoded data removed]",
      "text/plain": [
       "<Figure size 432x288 with 6 Axes>"
      ]
     },
     "metadata": {
      "needs_background": "light"
     },
     "output_type": "display_data"
    },
    {
     "data": {
      "text/plain": [
       "<Figure size 86400x1296 with 0 Axes>"
      ]
     },
     "metadata": {},
     "output_type": "display_data"
    },
    {
     "data": {
      "text/plain": [
       "<Figure size 86400x1296 with 0 Axes>"
      ]
     },
     "metadata": {},
     "output_type": "display_data"
    },
    {
     "data": {
      "text/plain": [
       "<Figure size 86400x1296 with 0 Axes>"
      ]
     },
     "metadata": {},
     "output_type": "display_data"
    },
    {
     "data": {
      "text/plain": [
       "<Figure size 86400x1296 with 0 Axes>"
      ]
     },
     "metadata": {},
     "output_type": "display_data"
    },
    {
     "data": {
      "text/plain": [
       "<Figure size 86400x1296 with 0 Axes>"
      ]
     },
     "metadata": {},
     "output_type": "display_data"
    },
    {
     "data": {
      "text/plain": [
       "<Figure size 86400x1296 with 0 Axes>"
      ]
     },
     "metadata": {},
     "output_type": "display_data"
    }
   ],
   "source": [
    "\n",
    "fig, axes = plt.subplots(6)\n",
    "for i in range(6):\n",
    "    plt.figure(figsize= (1200, 18))\n",
    "    axes[i].scatter(X_test.iloc[:,i],ys_test.iloc[:,i])\n",
    "    Xs = pd.DataFrame(X_test)\n",
    "    Xs['preds'] = models[i].predict(np.array(X_test.iloc[:,i]).reshape(-1,1))\n",
    "    Xs.sort_values(Xs.columns[i], inplace=True)\n",
    "    axes[i].plot(Xs.iloc[:,i], np.array(Xs['preds']).reshape(-1,1), color='red')"
   ]
  },
  {
   "cell_type": "markdown",
   "metadata": {},
   "source": [
    "The graphs of the scatter plots with the lines of fit is about as expected. The linear regression model is going to predict close to the mean to try and maximize its score."
   ]
  },
  {
   "cell_type": "code",
   "execution_count": null,
   "metadata": {},
   "outputs": [],
   "source": []
  }
 ],
 "metadata": {
  "kernelspec": {
   "display_name": "Python 3",
   "language": "python",
   "name": "python3"
  },
  "language_info": {
   "codemirror_mode": {
    "name": "ipython",
    "version": 3
   },
   "file_extension": ".py",
   "mimetype": "text/x-python",
   "name": "python",
   "nbconvert_exporter": "python",
   "pygments_lexer": "ipython3",
   "version": "3.8.5"
  }
 },
 "nbformat": 4,
 "nbformat_minor": 4
}
